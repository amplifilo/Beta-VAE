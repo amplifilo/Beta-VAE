{
 "cells": [
  {
   "cell_type": "code",
   "execution_count": 13,
   "metadata": {},
   "outputs": [],
   "source": [
    "import dill"
   ]
  },
  {
   "cell_type": "code",
   "execution_count": 1,
   "metadata": {},
   "outputs": [
    {
     "name": "stdout",
     "output_type": "stream",
     "text": [
      "LICENSE                        other_datasets.ipynb\n",
      "README.md                      \u001b[1m\u001b[36moutputs\u001b[m\u001b[m\n",
      "\u001b[1m\u001b[36m__pycache__\u001b[m\u001b[m                    run_3dchairs_H_beta4_z10.sh\n",
      "\u001b[1m\u001b[36mdata\u001b[m\u001b[m                           run_3dchairs_H_beta4_z16.sh\n",
      "dataset.py                     run_celeba_H_beta10_z10.sh\n",
      "\u001b[31mdownload_dsprites.sh\u001b[m\u001b[m           run_celeba_H_beta10_z32.sh\n",
      "launch_solver.ipynb            run_dsprites_B_gamma100_z10.sh\n",
      "main.py                        simplerRun.py\n",
      "\u001b[1m\u001b[36mmisc\u001b[m\u001b[m                           solver.py\n",
      "mnist_beta_trainer.ipynb       test_script_run.ipynb\n",
      "mnist_beta_trainer.py          traverse_latent_space.ipynb\n",
      "model.py                       utils.py\n"
     ]
    }
   ],
   "source": [
    "!ls"
   ]
  },
  {
   "cell_type": "code",
   "execution_count": 10,
   "metadata": {},
   "outputs": [
    {
     "name": "stdout",
     "output_type": "stream",
     "text": [
      "10\n",
      "10\n",
      "here\n",
      "/Users/vepr/Documents/GitHub/Beta-VAE/model.py:150: UserWarning: nn.init.kaiming_normal is now deprecated in favor of nn.init.kaiming_normal_.\n",
      "  init.kaiming_normal(m.weight)\n",
      "10\n",
      " 10%|████▍                                       | 1/10 [00:01<00:09,  1.08s/it]/Users/vepr/miniforge3/lib/python3.9/site-packages/torch/nn/_reduction.py:42: UserWarning: size_average and reduce args will be deprecated, please use reduction='sum' instead.\n",
      "  warnings.warn(warning.format(ret))\n",
      "[Training Finished]                                                             \n",
      "100%|███████████████████████████████████████████| 10/10 [00:11<00:00,  1.14s/it]\n",
      "Training finished. Let's see it if works.\n"
     ]
    }
   ],
   "source": [
    "!python mnist_beta_trainer.py --max_iter 10"
   ]
  },
  {
   "cell_type": "code",
   "execution_count": 21,
   "metadata": {},
   "outputs": [],
   "source": [
    "ifile = open(\"trained.model\", \"rb\")\n",
    "newload = dill.load(ifile)\n",
    "ifile.close()"
   ]
  },
  {
   "cell_type": "code",
   "execution_count": null,
   "metadata": {},
   "outputs": [],
   "source": []
  }
 ],
 "metadata": {
  "interpreter": {
   "hash": "aec1f4ad2c902c0bf7c8eda7aac2a1a27d77b9b0cbff27dcaacab01d0ea2755f"
  },
  "kernelspec": {
   "display_name": "Python 3.9.7 ('base')",
   "language": "python",
   "name": "python3"
  },
  "language_info": {
   "codemirror_mode": {
    "name": "ipython",
    "version": 3
   },
   "file_extension": ".py",
   "mimetype": "text/x-python",
   "name": "python",
   "nbconvert_exporter": "python",
   "pygments_lexer": "ipython3",
   "version": "3.9.7"
  },
  "orig_nbformat": 4
 },
 "nbformat": 4,
 "nbformat_minor": 2
}
